{
 "cells": [
  {
   "cell_type": "markdown",
   "metadata": {},
   "source": [
    "# Inference and Validation\n",
    "\n",
    "Now that you have a trained network, you can use it for making predictions. This is typically called **inference**, a term borrowed from statistics. However, neural networks have a tendency to perform *too well* on the training data and aren't able to generalize to data that hasn't been seen before. This is called **overfitting** and it impairs inference performance. To test for overfitting while training, we measure the performance on data not in the training set called the **validation** set. We avoid overfitting through regularization such as dropout while monitoring the validation performance during training. In this notebook, I'll show you how to do this in PyTorch. \n",
    "\n",
    "As usual, let's start by loading the dataset through torchvision. You'll learn more about torchvision and loading data in a later part. This time we'll be taking advantage of the test set which you can get by setting `train=False` here:\n",
    "\n",
    "```python\n",
    "testset = datasets.FashionMNIST('~/.pytorch/F_MNIST_data/', download=True, train=False, transform=transform)\n",
    "```\n",
    "\n",
    "The test set contains images just like the training set. Typically you'll see 10-20% of the original dataset held out for testing and validation with the rest being used for training."
   ]
  },
  {
   "cell_type": "code",
   "execution_count": 1,
   "metadata": {},
   "outputs": [
    {
     "name": "stdout",
     "output_type": "stream",
     "text": [
      "Downloading http://fashion-mnist.s3-website.eu-central-1.amazonaws.com/train-images-idx3-ubyte.gz\n",
      "Downloading http://fashion-mnist.s3-website.eu-central-1.amazonaws.com/train-labels-idx1-ubyte.gz\n",
      "Downloading http://fashion-mnist.s3-website.eu-central-1.amazonaws.com/t10k-images-idx3-ubyte.gz\n",
      "Downloading http://fashion-mnist.s3-website.eu-central-1.amazonaws.com/t10k-labels-idx1-ubyte.gz\n",
      "Processing...\n",
      "Done!\n"
     ]
    }
   ],
   "source": [
    "import torch\n",
    "from torchvision import datasets, transforms\n",
    "\n",
    "# Define a transform to normalize the data\n",
    "transform = transforms.Compose([transforms.ToTensor(),\n",
    "                                transforms.Normalize((0.5, 0.5, 0.5), (0.5, 0.5, 0.5))])\n",
    "# Download and load the training data\n",
    "trainset = datasets.FashionMNIST('~/.pytorch/F_MNIST_data/', download=True, train=True, transform=transform)\n",
    "trainloader = torch.utils.data.DataLoader(trainset, batch_size=64, shuffle=True)\n",
    "\n",
    "# Download and load the test data\n",
    "testset = datasets.FashionMNIST('~/.pytorch/F_MNIST_data/', download=True, train=False, transform=transform)\n",
    "testloader = torch.utils.data.DataLoader(testset, batch_size=64, shuffle=True)"
   ]
  },
  {
   "cell_type": "code",
   "execution_count": 100,
   "metadata": {},
   "outputs": [
    {
     "name": "stdout",
     "output_type": "stream",
     "text": [
      "num of labels in the last batch:  16\n",
      "total number labels in for loop:  10000\n",
      "acctual number of labels:         10000\n"
     ]
    }
   ],
   "source": [
    "total_num = 0\n",
    "\n",
    "for images, labels in testloader:\n",
    "    n_labels = len(labels)\n",
    "#     print(n_labels)\n",
    "    total_num += n_labels\n",
    "    \n",
    "print('num of labels in the last batch:  {}'.format(n_labels))\n",
    "print('total number labels in for loop:  {}'.format(total_num))\n",
    "print('acctual number of labels:         {}'.format(len(testloader.dataset.test_labels)))"
   ]
  },
  {
   "cell_type": "markdown",
   "metadata": {},
   "source": [
    "Here I'll create a model like normal, using the same one from my solution for part 4."
   ]
  },
  {
   "cell_type": "code",
   "execution_count": 2,
   "metadata": {},
   "outputs": [],
   "source": [
    "from torch import nn, optim\n",
    "import torch.nn.functional as F\n",
    "\n",
    "class Classifier(nn.Module):\n",
    "    def __init__(self):\n",
    "        super().__init__()\n",
    "        self.fc1 = nn.Linear(784, 256)\n",
    "        self.fc2 = nn.Linear(256, 128)\n",
    "        self.fc3 = nn.Linear(128, 64)\n",
    "        self.fc4 = nn.Linear(64, 10)\n",
    "        \n",
    "    def forward(self, x):\n",
    "        # make sure input tensor is flattened\n",
    "        x = x.view(x.shape[0], -1)\n",
    "        \n",
    "        x = F.relu(self.fc1(x))\n",
    "        x = F.relu(self.fc2(x))\n",
    "        x = F.relu(self.fc3(x))\n",
    "        x = F.log_softmax(self.fc4(x), dim=1)\n",
    "        \n",
    "        return x"
   ]
  },
  {
   "cell_type": "markdown",
   "metadata": {},
   "source": [
    "The goal of validation is to measure the model's performance on data that isn't part of the training set. Performance here is up to the developer to define though. Typically this is just accuracy, the percentage of classes the network predicted correctly. Other options are [precision and recall](https://en.wikipedia.org/wiki/Precision_and_recall#Definition_(classification_context)) and top-5 error rate. We'll focus on accuracy here. First I'll do a forward pass with one batch from the test set."
   ]
  },
  {
   "cell_type": "code",
   "execution_count": 3,
   "metadata": {},
   "outputs": [
    {
     "name": "stdout",
     "output_type": "stream",
     "text": [
      "torch.Size([64, 10])\n"
     ]
    }
   ],
   "source": [
    "model = Classifier()\n",
    "\n",
    "images, labels = next(iter(testloader))\n",
    "# Get the class probabilities\n",
    "ps = torch.exp(model(images))\n",
    "# Make sure the shape is appropriate, we should get 10 class probabilities for 64 examples\n",
    "print(ps.shape)"
   ]
  },
  {
   "cell_type": "markdown",
   "metadata": {},
   "source": [
    "With the probabilities, we can get the most likely class using the `ps.topk` method. This returns the $k$ highest values. Since we just want the most likely class, we can use `ps.topk(1)`. This returns a tuple of the top-$k$ values and the top-$k$ indices. If the highest value is the fifth element, we'll get back 4 as the index."
   ]
  },
  {
   "cell_type": "code",
   "execution_count": 8,
   "metadata": {},
   "outputs": [
    {
     "name": "stdout",
     "output_type": "stream",
     "text": [
      "torch.Size([64, 1])\n",
      "torch.Size([64, 1])\n",
      "tensor([[ 3],\n",
      "        [ 3],\n",
      "        [ 3],\n",
      "        [ 3],\n",
      "        [ 3],\n",
      "        [ 3],\n",
      "        [ 3],\n",
      "        [ 3],\n",
      "        [ 3],\n",
      "        [ 3]])\n"
     ]
    }
   ],
   "source": [
    "top_p, top_class = ps.topk(1, dim=1)\n",
    "# Look at the most likely classes for the first 10 examples\n",
    "print(top_p.shape)\n",
    "print(top_class.shape)\n",
    "print(top_class[:10,:])"
   ]
  },
  {
   "cell_type": "markdown",
   "metadata": {},
   "source": [
    "Now we can check if the predicted classes match the labels. This is simple to do by equating `top_class` and `labels`, but we have to be careful of the shapes. Here `top_class` is a 2D tensor with shape `(64, 1)` while `labels` is 1D with shape `(64)`. To get the equality to work out the way we want, `top_class` and `labels` must have the same shape.\n",
    "\n",
    "If we do\n",
    "\n",
    "```python\n",
    "equals = top_class == labels\n",
    "```\n",
    "\n",
    "`equals` will have shape `(64, 64)`, try it yourself. What it's doing is comparing the one element in each row of `top_class` with each element in `labels` which returns 64 True/False boolean values for each row."
   ]
  },
  {
   "cell_type": "code",
   "execution_count": 16,
   "metadata": {},
   "outputs": [
    {
     "data": {
      "text/plain": [
       "tensor([ 0,  0,  0,  0,  1,  0,  0,  0,  0,  0,  0,  0,  0,  0,\n",
       "         0,  0,  0,  0,  0,  0,  0,  1,  0,  0,  0,  0,  0,  0,\n",
       "         0,  0,  0,  0,  0,  0,  0,  0,  0,  1,  0,  0,  0,  0,\n",
       "         0,  0,  0,  1,  0,  0,  0,  0,  0,  0,  0,  0,  0,  0,\n",
       "         0,  0,  0,  0,  0,  1,  0,  0], dtype=torch.uint8)"
      ]
     },
     "execution_count": 16,
     "metadata": {},
     "output_type": "execute_result"
    }
   ],
   "source": [
    "equals = top_class == labels.view(*top_class.shape)\n",
    "\n",
    "labels.shape\n",
    "(top_class.squeeze(dim=1) == labels)"
   ]
  },
  {
   "cell_type": "markdown",
   "metadata": {},
   "source": [
    "Now we need to calculate the percentage of correct predictions. `equals` has binary values, either 0 or 1. This means that if we just sum up all the values and divide by the number of values, we get the percentage of correct predictions. This is the same operation as taking the mean, so we can get the accuracy with a call to `torch.mean`. If only it was that simple. If you try `torch.mean(equals)`, you'll get an error\n",
    "\n",
    "```\n",
    "RuntimeError: mean is not implemented for type torch.ByteTensor\n",
    "```\n",
    "\n",
    "This happens because `equals` has type `torch.ByteTensor` but `torch.mean` isn't implemented for tensors with that type. So we'll need to convert `equals` to a float tensor. Note that when we take `torch.mean` it returns a scalar tensor, to get the actual value as a float we'll need to do `accuracy.item()`."
   ]
  },
  {
   "cell_type": "code",
   "execution_count": 6,
   "metadata": {},
   "outputs": [
    {
     "name": "stdout",
     "output_type": "stream",
     "text": [
      "Accuracy: 7.8125%\n"
     ]
    }
   ],
   "source": [
    "accuracy = torch.mean(equals.type(torch.FloatTensor))\n",
    "print(f'Accuracy: {accuracy.item()*100}%')"
   ]
  },
  {
   "cell_type": "markdown",
   "metadata": {},
   "source": [
    "The network is untrained so it's making random guesses and we should see an accuracy around 10%. Now let's train our network and include our validation pass so we can measure how well the network is performing on the test set. Since we're not updating our parameters in the validation pass, we can speed up our code by turning off gradients using `torch.no_grad()`:\n",
    "\n",
    "```python\n",
    "# turn off gradients\n",
    "with torch.no_grad():\n",
    "    # validation pass here\n",
    "    for images, labels in testloader:\n",
    "        ...\n",
    "```\n",
    "\n",
    ">**Exercise:** Implement the validation loop below and print out the total accuracy after the loop. You can largely copy and paste the code from above, but I suggest typing it in because writing it out yourself is essential for building the skill. In general you'll always learn more by typing it rather than copy-pasting. You should be able to get an accuracy above 80%."
   ]
  },
  {
   "cell_type": "code",
   "execution_count": 44,
   "metadata": {},
   "outputs": [
    {
     "name": "stdout",
     "output_type": "stream",
     "text": [
      "epoch 0: train loss=0.5207502612554188, test loss=0.4447450041770935, Accuracy=83.78\n",
      "epoch 1: train loss=0.3911219909628317, test loss=0.4391200542449951, Accuracy=84.74000000000001\n",
      "epoch 2: train loss=0.3537139075556035, test loss=0.42951419949531555, Accuracy=84.58\n",
      "epoch 3: train loss=0.33049235084671963, test loss=0.3818325400352478, Accuracy=85.61\n",
      "epoch 4: train loss=0.31340783447630877, test loss=0.39796164631843567, Accuracy=86.15\n",
      "epoch 5: train loss=0.30264600866766117, test loss=0.38684555888175964, Accuracy=86.09\n",
      "epoch 6: train loss=0.2896623033394755, test loss=0.34993776679039, Accuracy=87.81\n",
      "epoch 7: train loss=0.2840888195279946, test loss=0.36197227239608765, Accuracy=87.44\n",
      "epoch 8: train loss=0.27797895283110613, test loss=0.3586967885494232, Accuracy=87.48\n",
      "epoch 9: train loss=0.2671994849848849, test loss=0.36601683497428894, Accuracy=87.19\n",
      "epoch 10: train loss=0.2603960116661942, test loss=0.3578137755393982, Accuracy=88.3\n",
      "epoch 11: train loss=0.25149040399139116, test loss=0.3654969036579132, Accuracy=87.36\n",
      "epoch 12: train loss=0.2469382934542353, test loss=0.35815101861953735, Accuracy=88.16000000000001\n",
      "epoch 13: train loss=0.2418001078204242, test loss=0.36743947863578796, Accuracy=87.92\n",
      "epoch 14: train loss=0.23265054923241962, test loss=0.38677459955215454, Accuracy=87.86\n",
      "epoch 15: train loss=0.2316363614314655, test loss=0.3674966096878052, Accuracy=88.25\n",
      "epoch 16: train loss=0.2301438927713996, test loss=0.3784862458705902, Accuracy=87.85\n",
      "epoch 17: train loss=0.22326445193893746, test loss=0.3901325762271881, Accuracy=88.0\n",
      "epoch 18: train loss=0.2160243169466125, test loss=0.3951002359390259, Accuracy=87.98\n",
      "epoch 19: train loss=0.2133224390185019, test loss=0.40620148181915283, Accuracy=87.91\n",
      "epoch 20: train loss=0.21031920219868866, test loss=0.4054681956768036, Accuracy=87.83999999999999\n",
      "epoch 21: train loss=0.21120971323314633, test loss=0.4171083867549896, Accuracy=88.07000000000001\n",
      "epoch 22: train loss=0.20815608169891434, test loss=0.39054036140441895, Accuracy=88.49000000000001\n",
      "epoch 23: train loss=0.1965887424256057, test loss=0.41361892223358154, Accuracy=88.31\n",
      "epoch 24: train loss=0.1920392254689164, test loss=0.4372514486312866, Accuracy=88.26\n",
      "epoch 25: train loss=0.19515143728840834, test loss=0.4733116924762726, Accuracy=87.3\n",
      "epoch 26: train loss=0.19210051098016342, test loss=0.43072548508644104, Accuracy=88.03999999999999\n",
      "epoch 27: train loss=0.18918217871504933, test loss=0.42708659172058105, Accuracy=88.02\n",
      "epoch 28: train loss=0.1899980464890631, test loss=0.4183855354785919, Accuracy=88.14999999999999\n",
      "epoch 29: train loss=0.18466275926631714, test loss=0.415253221988678, Accuracy=88.33\n"
     ]
    }
   ],
   "source": [
    "model = Classifier()\n",
    "criterion = nn.NLLLoss()\n",
    "optimizer = optim.Adam(model.parameters(), lr=0.003)\n",
    "\n",
    "epochs = 30\n",
    "steps = 0\n",
    "\n",
    "train_losses, test_losses = [], []\n",
    "test_accuracy = []\n",
    "\n",
    "for e in range(epochs, ):\n",
    "    running_loss = 0\n",
    "    for images, labels in trainloader:\n",
    "        \n",
    "        optimizer.zero_grad()\n",
    "        \n",
    "        log_ps = model(images)\n",
    "        loss = criterion(log_ps, labels)\n",
    "        loss.backward()\n",
    "        optimizer.step()\n",
    "        \n",
    "        running_loss += loss.item()\n",
    "        \n",
    "    else:\n",
    "        ## TODO: Implement the validation pass and print out the validation accuracy\n",
    "        with torch.no_grad():\n",
    "            running_loss_test = 0.0\n",
    "            count = 0\n",
    "            \n",
    "            for images_test, labels_test in testloader:\n",
    "                log_ps = model(images_test)\n",
    "                ps = torch.exp(log_ps)\n",
    "                \n",
    "                # calculate loss\n",
    "                running_loss_test += criterion(log_ps, labels_test)\n",
    "                \n",
    "                # calculate accuracy\n",
    "                top, top_class = ps.topk(1, dim=1)\n",
    "                \n",
    "                count += (top_class.squeeze(dim=1) == labels_test).sum()\n",
    "                \n",
    "            \n",
    "            accuracy = count.item() / testloader.dataset.test_labels.shape[0]\n",
    "        \n",
    "    cost = running_loss / len(trainloader)\n",
    "    cost_test = running_loss_test / len(testloader)\n",
    "    print('epoch {}: train loss={}, test loss={}, Accuracy={}'.format(e, \n",
    "                                                                      cost,\n",
    "                                                                      cost_test,\n",
    "                                                                      accuracy*100))\n",
    "        \n",
    "        \n",
    "    train_losses.append(cost)\n",
    "    test_losses.append(cost_test)\n",
    "    test_accuracy.append(accuracy)"
   ]
  },
  {
   "cell_type": "code",
   "execution_count": 47,
   "metadata": {},
   "outputs": [
    {
     "data": {
      "text/plain": [
       "<matplotlib.legend.Legend at 0x7f24543e6e10>"
      ]
     },
     "execution_count": 47,
     "metadata": {},
     "output_type": "execute_result"
    },
    {
     "data": {
      "image/png": "[encoded data removed]",
      "text/plain": [
       "<matplotlib.figure.Figure at 0x7f2454378320>"
      ]
     },
     "metadata": {
      "needs_background": "light"
     },
     "output_type": "display_data"
    }
   ],
   "source": [
    "import matplotlib.pyplot as plt\n",
    "%matplotlib inline\n",
    "\n",
    "plt.plot(train_losses, label='Training cost')\n",
    "plt.plot(test_losses, label='Testing cost')\n",
    "plt.legend(frameon=True)"
   ]
  },
  {
   "cell_type": "code",
   "execution_count": 49,
   "metadata": {},
   "outputs": [
    {
     "data": {
      "text/plain": [
       "<matplotlib.legend.Legend at 0x7f245640a438>"
      ]
     },
     "execution_count": 49,
     "metadata": {},
     "output_type": "execute_result"
    },
    {
     "data": {
      "image/png": "[encoded data removed]",
      "text/plain": [
       "<matplotlib.figure.Figure at 0x7f245640ae80>"
      ]
     },
     "metadata": {
      "needs_background": "light"
     },
     "output_type": "display_data"
    }
   ],
   "source": [
    "plt.plot(test_accuracy, label='test accuracy')\n",
    "plt.legend()"
   ]
  },
  {
   "cell_type": "markdown",
   "metadata": {},
   "source": [
    "## Overfitting\n",
    "\n",
    "If we look at the training and validation losses as we train the network, we can see a phenomenon known as overfitting.\n",
    "\n",
    "<img src='assets/overfitting.png' width=450px>\n",
    "\n",
    "The network learns the training set better and better, resulting in lower training losses. However, it starts having problems generalizing to data outside the training set leading to the validation loss increasing. The ultimate goal of any deep learning model is to make predictions on new data, so we should strive to get the lowest validation loss possible. One option is to use the version of the model with the lowest validation loss, here the one around 8-10 training epochs. This strategy is called *early-stopping*. In practice, you'd save the model frequently as you're training then later choose the model with the lowest validation loss.\n",
    "\n",
    "The most common method to reduce overfitting (outside of early-stopping) is *dropout*, where we randomly drop input units. This forces the network to share information between weights, increasing it's ability to generalize to new data. Adding dropout in PyTorch is straightforward using the [`nn.Dropout`](https://pytorch.org/docs/stable/nn.html#torch.nn.Dropout) module.\n",
    "\n",
    "```python\n",
    "class Classifier(nn.Module):\n",
    "    def __init__(self):\n",
    "        super().__init__()\n",
    "        self.fc1 = nn.Linear(784, 256)\n",
    "        self.fc2 = nn.Linear(256, 128)\n",
    "        self.fc3 = nn.Linear(128, 64)\n",
    "        self.fc4 = nn.Linear(64, 10)\n",
    "        \n",
    "        # Dropout module with 0.2 drop probability\n",
    "        self.dropout = nn.Dropout(p=0.2)\n",
    "        \n",
    "    def forward(self, x):\n",
    "        # make sure input tensor is flattened\n",
    "        x = x.view(x.shape[0], -1)\n",
    "        \n",
    "        # Now with dropout\n",
    "        x = self.dropout(F.relu(self.fc1(x)))\n",
    "        x = self.dropout(F.relu(self.fc2(x)))\n",
    "        x = self.dropout(F.relu(self.fc3(x)))\n",
    "        \n",
    "        # output so no dropout here\n",
    "        x = F.log_softmax(self.fc4(x), dim=1)\n",
    "        \n",
    "        return x\n",
    "```\n",
    "\n",
    "During training we want to use dropout to prevent overfitting, but during inference we want to use the entire network. So, we need to turn off dropout during validation, testing, and whenever we're using the network to make predictions. To do this, you use `model.eval()`. This sets the model to evaluation mode where the dropout probability is 0. You can turn dropout back on by setting the model to train mode with `model.train()`. In general, the pattern for the validation loop will look like this, where you turn off gradients, set the model to evaluation mode, calculate the validation loss and metric, then set the model back to train mode.\n",
    "\n",
    "```python\n",
    "# turn off gradients\n",
    "with torch.no_grad():\n",
    "    \n",
    "    # set model to evaluation mode\n",
    "    model.eval()\n",
    "    \n",
    "    # validation pass here\n",
    "    for images, labels in testloader:\n",
    "        ...\n",
    "\n",
    "# set model back to train mode\n",
    "model.train()\n",
    "```"
   ]
  },
  {
   "cell_type": "markdown",
   "metadata": {},
   "source": [
    "> **Exercise:** Add dropout to your model and train it on Fashion-MNIST again. See if you can get a lower validation loss or higher accuracy."
   ]
  },
  {
   "cell_type": "code",
   "execution_count": 58,
   "metadata": {},
   "outputs": [],
   "source": [
    "## TODO: Define your model with dropout added\n",
    "import torch.nn.functional as F\n",
    "import torch.nn as nn\n",
    "\n",
    "class FDropModel(nn.Module):\n",
    "    def __init__(self):\n",
    "        super().__init__()\n",
    "        \n",
    "        self.fc1 = nn.Linear(784, 256)\n",
    "        self.fc2 = nn.Linear(256, 128)\n",
    "        self.fc3 = nn.Linear(128, 64)\n",
    "        self.fc4 = nn.Linear(64, 10)\n",
    "        self.dropout = nn.Dropout(p=0.2)\n",
    "        self.log_softmax = nn.LogSoftmax(dim=1)\n",
    "        \n",
    "    def forward(self, x):\n",
    "        \n",
    "        out = x.view(x.shape[0], -1)\n",
    "        out = self.dropout(F.relu(self.fc1(out)))\n",
    "        out = self.dropout(F.relu(self.fc2(out)))\n",
    "        out = self.dropout(F.relu(self.fc3(out)))\n",
    "        logits = self.fc4(out)\n",
    "        log_softmax = self.log_softmax(logits)\n",
    "        \n",
    "        return log_softmax"
   ]
  },
  {
   "cell_type": "code",
   "execution_count": 91,
   "metadata": {},
   "outputs": [
    {
     "name": "stdout",
     "output_type": "stream",
     "text": [
      "epoch 0: train cost=0.010, test cost=0.008, test accuracy=82.140%\n",
      "epoch 1: train cost=0.009, test cost=0.008, test accuracy=82.950%\n",
      "epoch 2: train cost=0.008, test cost=0.007, test accuracy=83.250%\n",
      "epoch 3: train cost=0.008, test cost=0.007, test accuracy=83.970%\n",
      "epoch 4: train cost=0.008, test cost=0.007, test accuracy=84.000%\n",
      "epoch 5: train cost=0.008, test cost=0.007, test accuracy=85.250%\n",
      "epoch 6: train cost=0.008, test cost=0.007, test accuracy=84.030%\n",
      "epoch 7: train cost=0.008, test cost=0.007, test accuracy=84.550%\n",
      "epoch 8: train cost=0.008, test cost=0.007, test accuracy=83.960%\n",
      "epoch 9: train cost=0.007, test cost=0.007, test accuracy=84.370%\n",
      "epoch 10: train cost=0.008, test cost=0.007, test accuracy=84.920%\n",
      "epoch 11: train cost=0.007, test cost=0.007, test accuracy=84.620%\n",
      "epoch 12: train cost=0.007, test cost=0.007, test accuracy=85.580%\n",
      "epoch 13: train cost=0.007, test cost=0.007, test accuracy=85.190%\n",
      "epoch 14: train cost=0.007, test cost=0.008, test accuracy=83.940%\n",
      "epoch 15: train cost=0.007, test cost=0.007, test accuracy=85.490%\n",
      "epoch 16: train cost=0.007, test cost=0.007, test accuracy=85.120%\n",
      "epoch 17: train cost=0.007, test cost=0.007, test accuracy=85.420%\n",
      "epoch 18: train cost=0.007, test cost=0.007, test accuracy=83.870%\n",
      "epoch 19: train cost=0.007, test cost=0.007, test accuracy=84.720%\n",
      "epoch 20: train cost=0.007, test cost=0.007, test accuracy=85.090%\n",
      "epoch 21: train cost=0.007, test cost=0.007, test accuracy=85.790%\n",
      "epoch 22: train cost=0.007, test cost=0.007, test accuracy=85.690%\n",
      "epoch 23: train cost=0.007, test cost=0.007, test accuracy=85.160%\n",
      "epoch 24: train cost=0.007, test cost=0.007, test accuracy=84.760%\n",
      "epoch 25: train cost=0.007, test cost=0.007, test accuracy=85.360%\n",
      "epoch 26: train cost=0.007, test cost=0.007, test accuracy=85.810%\n",
      "epoch 27: train cost=0.007, test cost=0.007, test accuracy=84.990%\n",
      "epoch 28: train cost=0.007, test cost=0.007, test accuracy=84.390%\n",
      "epoch 29: train cost=0.007, test cost=0.007, test accuracy=85.380%\n"
     ]
    }
   ],
   "source": [
    "## TODO: Train your model with dropout, and monitor the training progress with the validation loss and accuracy\n",
    "import pdb\n",
    "\n",
    "lr = 5e-3\n",
    "epochs = 30\n",
    "\n",
    "model = FDropModel()\n",
    "optimizer = optim.Adam(model.parameters(), lr=lr)\n",
    "criterion = nn.NLLLoss()\n",
    "\n",
    "cost_train = []\n",
    "cost_test = []\n",
    "accuracy_test = []\n",
    "\n",
    "for e in range(epochs):\n",
    "    \n",
    "    # train mode\n",
    "    model.train()\n",
    "    \n",
    "    running_loss_train = 0.0\n",
    "    \n",
    "    for images, labels in trainloader:\n",
    "        \n",
    "        log_softmax = model(images)\n",
    "        \n",
    "        # forward path\n",
    "        loss = criterion(log_softmax, labels)\n",
    "        \n",
    "        # clear grad\n",
    "        optimizer.zero_grad()\n",
    "        \n",
    "        # backward path\n",
    "        loss.backward()\n",
    "        \n",
    "        # update grad\n",
    "        optimizer.step()\n",
    "        \n",
    "        \n",
    "        running_loss_train += loss\n",
    "        \n",
    "    # convert tensor to float\n",
    "    c_train = running_loss_train.item() / trainloader.dataset.train_labels.shape[0]\n",
    "    \n",
    "    \n",
    "    # test mode\n",
    "    with torch.no_grad():\n",
    "        running_loss_test = 0.0\n",
    "        count = 0\n",
    "        \n",
    "        # turn off dropout out by entering eval mode\n",
    "        model.eval()\n",
    "        for images_valid, labels_valid in testloader:\n",
    "            log_softmax = model(images_valid)\n",
    "            \n",
    "            loss = criterion(log_softmax, labels_valid)\n",
    "            \n",
    "            ps = torch.exp(log_softmax)\n",
    "            top, top_class = ps.topk(1, dim=1)\n",
    "            \n",
    "            running_loss_test += loss\n",
    "            c = (top_class.squeeze(dim=1) == labels_valid).sum()\n",
    "#             pdb.set_trace()\n",
    "            count += c\n",
    "            \n",
    "        # convert tensor to float\n",
    "        c_test = running_loss_test.item() / testloader.dataset.test_labels.shape[0]\n",
    "        accuracy = count.item() / testloader.dataset.test_labels.shape[0]\n",
    "    \n",
    "    \n",
    "    \n",
    "    \n",
    "    \n",
    "    print('epoch {}: train cost={:.3f}, test cost={:.3f}, test accuracy={:.3f}%'.format(e,\n",
    "                                                                          c_train,\n",
    "                                                                          c_test,\n",
    "                                                                          accuracy*100.0))\n",
    "    \n",
    "    cost_train.append( c_train)\n",
    "    cost_test.append(c_test)\n",
    "    accuracy_test.append(accuracy)\n",
    "    "
   ]
  },
  {
   "cell_type": "code",
   "execution_count": 92,
   "metadata": {},
   "outputs": [
    {
     "data": {
      "text/plain": [
       "<matplotlib.legend.Legend at 0x7f2453faf6a0>"
      ]
     },
     "execution_count": 92,
     "metadata": {},
     "output_type": "execute_result"
    },
    {
     "data": {
      "image/png": "[encoded data removed]",
      "text/plain": [
       "<matplotlib.figure.Figure at 0x7f24541e87f0>"
      ]
     },
     "metadata": {
      "needs_background": "light"
     },
     "output_type": "display_data"
    }
   ],
   "source": [
    "import matplotlib.pyplot as plt\n",
    "\n",
    "%matplotlib inline\n",
    "\n",
    "plt.plot(cost_train, label='train cost')\n",
    "plt.plot(cost_test, label='test_cost')\n",
    "plt.legend()"
   ]
  },
  {
   "cell_type": "code",
   "execution_count": 93,
   "metadata": {},
   "outputs": [
    {
     "data": {
      "text/plain": [
       "<matplotlib.legend.Legend at 0x7f2453d88400>"
      ]
     },
     "execution_count": 93,
     "metadata": {},
     "output_type": "execute_result"
    },
    {
     "data": {
      "image/png": "[encoded data removed]",
      "text/plain": [
       "<matplotlib.figure.Figure at 0x7f2453d88828>"
      ]
     },
     "metadata": {
      "needs_background": "light"
     },
     "output_type": "display_data"
    }
   ],
   "source": [
    "plt.plot(accuracy_test, label='test accuracy')\n",
    "plt.legend()"
   ]
  },
  {
   "cell_type": "markdown",
   "metadata": {},
   "source": [
    "## Inference\n",
    "\n",
    "Now that the model is trained, we can use it for inference. We've done this before, but now we need to remember to set the model in inference mode with `model.eval()`. You'll also want to turn off autograd with the `torch.no_grad()` context."
   ]
  },
  {
   "cell_type": "code",
   "execution_count": 94,
   "metadata": {},
   "outputs": [
    {
     "data": {
      "image/png": "[encoded data removed]",
      "text/plain": [
       "<matplotlib.figure.Figure at 0x7f2453c58898>"
      ]
     },
     "metadata": {
      "needs_background": "light"
     },
     "output_type": "display_data"
    }
   ],
   "source": [
    "# Import helper module (should be in the repo)\n",
    "import helper\n",
    "\n",
    "# Test out your network!\n",
    "\n",
    "model.eval()\n",
    "\n",
    "dataiter = iter(testloader)\n",
    "images, labels = dataiter.next()\n",
    "img = images[0]\n",
    "# Convert 2D image to 1D vector\n",
    "img = img.view(1, 784)\n",
    "\n",
    "# Calculate the class probabilities (softmax) for img\n",
    "with torch.no_grad():\n",
    "    output = model.forward(img)\n",
    "\n",
    "ps = torch.exp(output)\n",
    "\n",
    "# Plot the image and probabilities\n",
    "helper.view_classify(img.view(1, 28, 28), ps, version='Fashion')"
   ]
  },
  {
   "cell_type": "markdown",
   "metadata": {},
   "source": [
    "## Next Up!\n",
    "\n",
    "In the next part, I'll show you how to save your trained models. In general, you won't want to train a model everytime you need it. Instead, you'll train once, save it, then load the model when you want to train more or use if for inference."
   ]
  }
 ],
 "metadata": {
  "kernelspec": {
   "display_name": "Python 3",
   "language": "python",
   "name": "python3"
  },
  "language_info": {
   "codemirror_mode": {
    "name": "ipython",
    "version": 3
   },
   "file_extension": ".py",
   "mimetype": "text/x-python",
   "name": "python",
   "nbconvert_exporter": "python",
   "pygments_lexer": "ipython3",
   "version": "3.6.3"
  }
 },
 "nbformat": 4,
 "nbformat_minor": 2
}
